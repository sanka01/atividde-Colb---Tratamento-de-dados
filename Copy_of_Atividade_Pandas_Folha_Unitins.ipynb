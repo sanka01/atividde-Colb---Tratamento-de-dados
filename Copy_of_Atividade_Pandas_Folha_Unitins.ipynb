{
  "nbformat": 4,
  "nbformat_minor": 0,
  "metadata": {
    "colab": {
      "name": "Copy of Atividade Pandas - Folha Unitins.ipynb",
      "version": "0.3.2",
      "provenance": [],
      "collapsed_sections": [],
      "toc_visible": true
    },
    "kernelspec": {
      "name": "python3",
      "display_name": "Python 3"
    }
  },
  "cells": [
    {
      "cell_type": "code",
      "metadata": {
        "id": "lXSg7hlceABN",
        "colab_type": "code",
        "colab": {}
      },
      "source": [
        "import pandas as pd\n",
        "import numpy as np\n",
        "import re\n"
      ],
      "execution_count": 0,
      "outputs": []
    },
    {
      "cell_type": "code",
      "metadata": {
        "id": "xNlTnv-hTuV9",
        "colab_type": "code",
        "outputId": "58dea907-81b5-4079-d3d0-ab1bfeb1fd6f",
        "colab": {
          "base_uri": "https://localhost:8080/",
          "height": 34
        }
      },
      "source": [
        "from google.colab import drive\n",
        "drive.mount('/content/drive')"
      ],
      "execution_count": 0,
      "outputs": [
        {
          "output_type": "stream",
          "text": [
            "Drive already mounted at /content/drive; to attempt to forcibly remount, call drive.mount(\"/content/drive\", force_remount=True).\n"
          ],
          "name": "stdout"
        }
      ]
    },
    {
      "cell_type": "markdown",
      "metadata": {
        "id": "i7bIJhVoejF9",
        "colab_type": "text"
      },
      "source": [
        "\n",
        "\n",
        "\n",
        "# Meu primeiro exercício usando COLAB\n",
        "\n",
        "Vamos ao Pandas!\n",
        "\n",
        "\n",
        "Faça o carregamento do arquivo CSV:\n"
      ]
    },
    {
      "cell_type": "code",
      "metadata": {
        "id": "8Tzk97UfJBp7",
        "colab_type": "code",
        "outputId": "04eea5f6-e8bc-4512-ff10-be54be2127e3",
        "colab": {
          "base_uri": "https://localhost:8080/",
          "height": 531
        }
      },
      "source": [
        "#data =  pd.read_csv('/content/Demonstrativo de pagamento.csv')\n",
        "data = pd.read_csv('/content/drive/My Drive/Colab Notebooks/arquivos/Demonstrativo de pagamento.csv')\n",
        "data.head(10)\n"
      ],
      "execution_count": 0,
      "outputs": [
        {
          "output_type": "execute_result",
          "data": {
            "text/html": [
              "<div>\n",
              "<style scoped>\n",
              "    .dataframe tbody tr th:only-of-type {\n",
              "        vertical-align: middle;\n",
              "    }\n",
              "\n",
              "    .dataframe tbody tr th {\n",
              "        vertical-align: top;\n",
              "    }\n",
              "\n",
              "    .dataframe thead th {\n",
              "        text-align: right;\n",
              "    }\n",
              "</style>\n",
              "<table border=\"1\" class=\"dataframe\">\n",
              "  <thead>\n",
              "    <tr style=\"text-align: right;\">\n",
              "      <th></th>\n",
              "      <th>MATRÍCULA</th>\n",
              "      <th>NOME COMPLETO</th>\n",
              "      <th>FUNÇÃO</th>\n",
              "      <th>LOTAÇÃO (ATUAL)</th>\n",
              "      <th>VÍNCULO</th>\n",
              "      <th>TOTAL VENCIMENTO*</th>\n",
              "      <th>DESCONTO IRRF</th>\n",
              "      <th>DESCONTO PREVIDÊNCIA</th>\n",
              "      <th>DESCONTOS DIVERSOS</th>\n",
              "      <th>SALÁRIO LÍQUIDO</th>\n",
              "      <th>REFERÊNCIA</th>\n",
              "    </tr>\n",
              "  </thead>\n",
              "  <tbody>\n",
              "    <tr>\n",
              "      <th>0</th>\n",
              "      <td>810029</td>\n",
              "      <td>MAYARA NASCIMENTO TRINDADE</td>\n",
              "      <td>ASSIST.ADMINIST /A-I</td>\n",
              "      <td>COORD. GERAL DE SECRETARIA ACADEMICA</td>\n",
              "      <td>EFETIVO</td>\n",
              "      <td>R$ 1.336,07</td>\n",
              "      <td>R$ 0,00</td>\n",
              "      <td>R$ 146,97</td>\n",
              "      <td>R$ 0,00</td>\n",
              "      <td>R$ 1.189,10</td>\n",
              "      <td>Mês 6 de 2019</td>\n",
              "    </tr>\n",
              "    <tr>\n",
              "      <th>1</th>\n",
              "      <td>810030</td>\n",
              "      <td>JOSE CARLOS FERREIRA DOS SANTO</td>\n",
              "      <td>ASSIST.ADMINISTR/C-3</td>\n",
              "      <td>DIRETORIA ADMINISTRATIVA</td>\n",
              "      <td>EFETIVO</td>\n",
              "      <td>R$ 2.179,54</td>\n",
              "      <td>R$ 0,00</td>\n",
              "      <td>R$ 239,75</td>\n",
              "      <td>R$ 217,96</td>\n",
              "      <td>R$ 1.721,83</td>\n",
              "      <td>Mês 6 de 2019</td>\n",
              "    </tr>\n",
              "    <tr>\n",
              "      <th>2</th>\n",
              "      <td>810031</td>\n",
              "      <td>FARLEY MORAIS ARAUJO</td>\n",
              "      <td>CINEGRAFISTA / C-3</td>\n",
              "      <td>COORDENADORIA DE ESTUDIO</td>\n",
              "      <td>EFETIVO</td>\n",
              "      <td>R$ 8.072,33</td>\n",
              "      <td>R$ 423,05</td>\n",
              "      <td>R$ 665,97</td>\n",
              "      <td>R$ 1.474,22</td>\n",
              "      <td>R$ 5.509,09</td>\n",
              "      <td>Mês 6 de 2019</td>\n",
              "    </tr>\n",
              "    <tr>\n",
              "      <th>3</th>\n",
              "      <td>810032</td>\n",
              "      <td>ALEXANDRE ANTONIO DE O ANDRADE</td>\n",
              "      <td>ADMINISTRADOR / C-3</td>\n",
              "      <td>COORDENADORIA DE CONTROLE INTERNO</td>\n",
              "      <td>EFETIVO</td>\n",
              "      <td>R$ 12.379,90</td>\n",
              "      <td>R$ 677,07</td>\n",
              "      <td>R$ 672,63</td>\n",
              "      <td>R$ 0,00</td>\n",
              "      <td>R$ 11.030,20</td>\n",
              "      <td>Mês 6 de 2019</td>\n",
              "    </tr>\n",
              "    <tr>\n",
              "      <th>4</th>\n",
              "      <td>810033</td>\n",
              "      <td>HOSANA DA SILVA DE MELO</td>\n",
              "      <td>TECN.N.SUPERIOR /C-3</td>\n",
              "      <td>OUVIDORIA GERAL</td>\n",
              "      <td>EFETIVO</td>\n",
              "      <td>R$ 7.714,80</td>\n",
              "      <td>R$ 1.067,23</td>\n",
              "      <td>R$ 672,63</td>\n",
              "      <td>R$ 0,00</td>\n",
              "      <td>R$ 5.974,94</td>\n",
              "      <td>Mês 6 de 2019</td>\n",
              "    </tr>\n",
              "    <tr>\n",
              "      <th>5</th>\n",
              "      <td>810034</td>\n",
              "      <td>CARLOS SOARES NOLETO JUNIOR</td>\n",
              "      <td>ANAL.I.ESTR/SEG./C-3</td>\n",
              "      <td>COORD. REDES E SEGURANCA DA INFORMACAO</td>\n",
              "      <td>EFETIVO</td>\n",
              "      <td>R$ 7.714,80</td>\n",
              "      <td>R$ 962,96</td>\n",
              "      <td>R$ 672,63</td>\n",
              "      <td>R$ 1.195,74</td>\n",
              "      <td>R$ 4.883,47</td>\n",
              "      <td>Mês 6 de 2019</td>\n",
              "    </tr>\n",
              "    <tr>\n",
              "      <th>6</th>\n",
              "      <td>810035</td>\n",
              "      <td>TAIENI VALOIS DA MOTA S COSTA</td>\n",
              "      <td>ASSIST.ADMINISTR/B-2</td>\n",
              "      <td>SUPERVISAO DE BIBLIOTECA - PAL</td>\n",
              "      <td>EFETIVO</td>\n",
              "      <td>R$ 1.706,47</td>\n",
              "      <td>R$ 0,00</td>\n",
              "      <td>R$ 186,06</td>\n",
              "      <td>R$ 15,01</td>\n",
              "      <td>R$ 1.505,40</td>\n",
              "      <td>Mês 6 de 2019</td>\n",
              "    </tr>\n",
              "    <tr>\n",
              "      <th>7</th>\n",
              "      <td>810036</td>\n",
              "      <td>OWEDERSON RICARDO DE O ALVES</td>\n",
              "      <td>AUX.SERV.GERAIS/ C-3</td>\n",
              "      <td>COORDENADORIA PATRIMONIO E ALMOXARIFADO</td>\n",
              "      <td>EFETIVO</td>\n",
              "      <td>R$ 4.000,00</td>\n",
              "      <td>R$ 223,41</td>\n",
              "      <td>R$ 179,81</td>\n",
              "      <td>R$ 32,68</td>\n",
              "      <td>R$ 3.564,10</td>\n",
              "      <td>Mês 6 de 2019</td>\n",
              "    </tr>\n",
              "    <tr>\n",
              "      <th>8</th>\n",
              "      <td>810038</td>\n",
              "      <td>SEBASTIAO SILVA SOUZA</td>\n",
              "      <td>VIGILANTE / B-1</td>\n",
              "      <td>COORD DO NUCLEO DE ZOOLOGIA E TAXIDERMIA</td>\n",
              "      <td>EFETIVO</td>\n",
              "      <td>R$ 1.104,96</td>\n",
              "      <td>R$ 0,00</td>\n",
              "      <td>R$ 115,74</td>\n",
              "      <td>R$ 0,00</td>\n",
              "      <td>R$ 989,22</td>\n",
              "      <td>Mês 6 de 2019</td>\n",
              "    </tr>\n",
              "    <tr>\n",
              "      <th>9</th>\n",
              "      <td>810040</td>\n",
              "      <td>ANTONIO DA SILVA SOUSA</td>\n",
              "      <td>VIGILANTE / C-3</td>\n",
              "      <td>DIRETORIA DE ADMINISTRACAO ACADEMICA</td>\n",
              "      <td>EFETIVO</td>\n",
              "      <td>R$ 2.384,64</td>\n",
              "      <td>R$ 8,34</td>\n",
              "      <td>R$ 179,81</td>\n",
              "      <td>R$ 0,00</td>\n",
              "      <td>R$ 2.196,49</td>\n",
              "      <td>Mês 6 de 2019</td>\n",
              "    </tr>\n",
              "  </tbody>\n",
              "</table>\n",
              "</div>"
            ],
            "text/plain": [
              "   MATRÍCULA                   NOME COMPLETO  ... SALÁRIO LÍQUIDO     REFERÊNCIA\n",
              "0     810029      MAYARA NASCIMENTO TRINDADE  ...     R$ 1.189,10  Mês 6 de 2019\n",
              "1     810030  JOSE CARLOS FERREIRA DOS SANTO  ...     R$ 1.721,83  Mês 6 de 2019\n",
              "2     810031            FARLEY MORAIS ARAUJO  ...     R$ 5.509,09  Mês 6 de 2019\n",
              "3     810032  ALEXANDRE ANTONIO DE O ANDRADE  ...    R$ 11.030,20  Mês 6 de 2019\n",
              "4     810033         HOSANA DA SILVA DE MELO  ...     R$ 5.974,94  Mês 6 de 2019\n",
              "5     810034     CARLOS SOARES NOLETO JUNIOR  ...     R$ 4.883,47  Mês 6 de 2019\n",
              "6     810035   TAIENI VALOIS DA MOTA S COSTA  ...     R$ 1.505,40  Mês 6 de 2019\n",
              "7     810036    OWEDERSON RICARDO DE O ALVES  ...     R$ 3.564,10  Mês 6 de 2019\n",
              "8     810038           SEBASTIAO SILVA SOUZA  ...       R$ 989,22  Mês 6 de 2019\n",
              "9     810040          ANTONIO DA SILVA SOUSA  ...     R$ 2.196,49  Mês 6 de 2019\n",
              "\n",
              "[10 rows x 11 columns]"
            ]
          },
          "metadata": {
            "tags": []
          },
          "execution_count": 87
        }
      ]
    },
    {
      "cell_type": "markdown",
      "metadata": {
        "id": "j7PED2v52XiZ",
        "colab_type": "text"
      },
      "source": [
        "Preparação de dados: \n",
        "\n",
        "1.   Faça a remoção do R$ de todos os valores numéridos.\n",
        "2.   Transforme os campos de pagamentos/desconto para o tipo numérico\n",
        "\n"
      ]
    },
    {
      "cell_type": "code",
      "metadata": {
        "id": "wXeg0nvVAzwu",
        "colab_type": "code",
        "colab": {}
      },
      "source": [
        "def converte_float(x):\n",
        "  x = x.replace('R$ ', '')\n",
        "  x = x.replace('.','')\n",
        "  x = x.replace(',', '.')\n",
        "  return float(x)"
      ],
      "execution_count": 0,
      "outputs": []
    },
    {
      "cell_type": "code",
      "metadata": {
        "id": "rz2F4fNB2h9u",
        "colab_type": "code",
        "outputId": "a369427d-ef91-4f1d-a4ad-0269d98f6cb8",
        "colab": {
          "base_uri": "https://localhost:8080/",
          "height": 531
        }
      },
      "source": [
        "data['SALÁRIO LÍQUIDO'] = data['SALÁRIO LÍQUIDO'].apply(lambda x: converte_float(x))\n",
        "data['DESCONTO IRRF'] = data['DESCONTO IRRF'].apply(lambda x: converte_float(x))\n",
        "data['DESCONTO PREVIDÊNCIA'] = data['DESCONTO PREVIDÊNCIA'].apply(lambda x: converte_float(x))\n",
        "data['DESCONTOS DIVERSOS'] = data['DESCONTOS DIVERSOS'].apply(lambda x: converte_float(x))\n",
        "data['TOTAL VENCIMENTO*'] = data['TOTAL VENCIMENTO*'].apply(lambda x: converte_float(x))\n",
        "\n",
        "data.head(10)"
      ],
      "execution_count": 0,
      "outputs": [
        {
          "output_type": "execute_result",
          "data": {
            "text/html": [
              "<div>\n",
              "<style scoped>\n",
              "    .dataframe tbody tr th:only-of-type {\n",
              "        vertical-align: middle;\n",
              "    }\n",
              "\n",
              "    .dataframe tbody tr th {\n",
              "        vertical-align: top;\n",
              "    }\n",
              "\n",
              "    .dataframe thead th {\n",
              "        text-align: right;\n",
              "    }\n",
              "</style>\n",
              "<table border=\"1\" class=\"dataframe\">\n",
              "  <thead>\n",
              "    <tr style=\"text-align: right;\">\n",
              "      <th></th>\n",
              "      <th>MATRÍCULA</th>\n",
              "      <th>NOME COMPLETO</th>\n",
              "      <th>FUNÇÃO</th>\n",
              "      <th>LOTAÇÃO (ATUAL)</th>\n",
              "      <th>VÍNCULO</th>\n",
              "      <th>TOTAL VENCIMENTO*</th>\n",
              "      <th>DESCONTO IRRF</th>\n",
              "      <th>DESCONTO PREVIDÊNCIA</th>\n",
              "      <th>DESCONTOS DIVERSOS</th>\n",
              "      <th>SALÁRIO LÍQUIDO</th>\n",
              "      <th>REFERÊNCIA</th>\n",
              "    </tr>\n",
              "  </thead>\n",
              "  <tbody>\n",
              "    <tr>\n",
              "      <th>0</th>\n",
              "      <td>810029</td>\n",
              "      <td>MAYARA NASCIMENTO TRINDADE</td>\n",
              "      <td>ASSIST.ADMINIST /A-I</td>\n",
              "      <td>COORD. GERAL DE SECRETARIA ACADEMICA</td>\n",
              "      <td>EFETIVO</td>\n",
              "      <td>1336.07</td>\n",
              "      <td>0.00</td>\n",
              "      <td>146.97</td>\n",
              "      <td>0.00</td>\n",
              "      <td>1189.10</td>\n",
              "      <td>Mês 6 de 2019</td>\n",
              "    </tr>\n",
              "    <tr>\n",
              "      <th>1</th>\n",
              "      <td>810030</td>\n",
              "      <td>JOSE CARLOS FERREIRA DOS SANTO</td>\n",
              "      <td>ASSIST.ADMINISTR/C-3</td>\n",
              "      <td>DIRETORIA ADMINISTRATIVA</td>\n",
              "      <td>EFETIVO</td>\n",
              "      <td>2179.54</td>\n",
              "      <td>0.00</td>\n",
              "      <td>239.75</td>\n",
              "      <td>217.96</td>\n",
              "      <td>1721.83</td>\n",
              "      <td>Mês 6 de 2019</td>\n",
              "    </tr>\n",
              "    <tr>\n",
              "      <th>2</th>\n",
              "      <td>810031</td>\n",
              "      <td>FARLEY MORAIS ARAUJO</td>\n",
              "      <td>CINEGRAFISTA / C-3</td>\n",
              "      <td>COORDENADORIA DE ESTUDIO</td>\n",
              "      <td>EFETIVO</td>\n",
              "      <td>8072.33</td>\n",
              "      <td>423.05</td>\n",
              "      <td>665.97</td>\n",
              "      <td>1474.22</td>\n",
              "      <td>5509.09</td>\n",
              "      <td>Mês 6 de 2019</td>\n",
              "    </tr>\n",
              "    <tr>\n",
              "      <th>3</th>\n",
              "      <td>810032</td>\n",
              "      <td>ALEXANDRE ANTONIO DE O ANDRADE</td>\n",
              "      <td>ADMINISTRADOR / C-3</td>\n",
              "      <td>COORDENADORIA DE CONTROLE INTERNO</td>\n",
              "      <td>EFETIVO</td>\n",
              "      <td>12379.90</td>\n",
              "      <td>677.07</td>\n",
              "      <td>672.63</td>\n",
              "      <td>0.00</td>\n",
              "      <td>11030.20</td>\n",
              "      <td>Mês 6 de 2019</td>\n",
              "    </tr>\n",
              "    <tr>\n",
              "      <th>4</th>\n",
              "      <td>810033</td>\n",
              "      <td>HOSANA DA SILVA DE MELO</td>\n",
              "      <td>TECN.N.SUPERIOR /C-3</td>\n",
              "      <td>OUVIDORIA GERAL</td>\n",
              "      <td>EFETIVO</td>\n",
              "      <td>7714.80</td>\n",
              "      <td>1067.23</td>\n",
              "      <td>672.63</td>\n",
              "      <td>0.00</td>\n",
              "      <td>5974.94</td>\n",
              "      <td>Mês 6 de 2019</td>\n",
              "    </tr>\n",
              "    <tr>\n",
              "      <th>5</th>\n",
              "      <td>810034</td>\n",
              "      <td>CARLOS SOARES NOLETO JUNIOR</td>\n",
              "      <td>ANAL.I.ESTR/SEG./C-3</td>\n",
              "      <td>COORD. REDES E SEGURANCA DA INFORMACAO</td>\n",
              "      <td>EFETIVO</td>\n",
              "      <td>7714.80</td>\n",
              "      <td>962.96</td>\n",
              "      <td>672.63</td>\n",
              "      <td>1195.74</td>\n",
              "      <td>4883.47</td>\n",
              "      <td>Mês 6 de 2019</td>\n",
              "    </tr>\n",
              "    <tr>\n",
              "      <th>6</th>\n",
              "      <td>810035</td>\n",
              "      <td>TAIENI VALOIS DA MOTA S COSTA</td>\n",
              "      <td>ASSIST.ADMINISTR/B-2</td>\n",
              "      <td>SUPERVISAO DE BIBLIOTECA - PAL</td>\n",
              "      <td>EFETIVO</td>\n",
              "      <td>1706.47</td>\n",
              "      <td>0.00</td>\n",
              "      <td>186.06</td>\n",
              "      <td>15.01</td>\n",
              "      <td>1505.40</td>\n",
              "      <td>Mês 6 de 2019</td>\n",
              "    </tr>\n",
              "    <tr>\n",
              "      <th>7</th>\n",
              "      <td>810036</td>\n",
              "      <td>OWEDERSON RICARDO DE O ALVES</td>\n",
              "      <td>AUX.SERV.GERAIS/ C-3</td>\n",
              "      <td>COORDENADORIA PATRIMONIO E ALMOXARIFADO</td>\n",
              "      <td>EFETIVO</td>\n",
              "      <td>4000.00</td>\n",
              "      <td>223.41</td>\n",
              "      <td>179.81</td>\n",
              "      <td>32.68</td>\n",
              "      <td>3564.10</td>\n",
              "      <td>Mês 6 de 2019</td>\n",
              "    </tr>\n",
              "    <tr>\n",
              "      <th>8</th>\n",
              "      <td>810038</td>\n",
              "      <td>SEBASTIAO SILVA SOUZA</td>\n",
              "      <td>VIGILANTE / B-1</td>\n",
              "      <td>COORD DO NUCLEO DE ZOOLOGIA E TAXIDERMIA</td>\n",
              "      <td>EFETIVO</td>\n",
              "      <td>1104.96</td>\n",
              "      <td>0.00</td>\n",
              "      <td>115.74</td>\n",
              "      <td>0.00</td>\n",
              "      <td>989.22</td>\n",
              "      <td>Mês 6 de 2019</td>\n",
              "    </tr>\n",
              "    <tr>\n",
              "      <th>9</th>\n",
              "      <td>810040</td>\n",
              "      <td>ANTONIO DA SILVA SOUSA</td>\n",
              "      <td>VIGILANTE / C-3</td>\n",
              "      <td>DIRETORIA DE ADMINISTRACAO ACADEMICA</td>\n",
              "      <td>EFETIVO</td>\n",
              "      <td>2384.64</td>\n",
              "      <td>8.34</td>\n",
              "      <td>179.81</td>\n",
              "      <td>0.00</td>\n",
              "      <td>2196.49</td>\n",
              "      <td>Mês 6 de 2019</td>\n",
              "    </tr>\n",
              "  </tbody>\n",
              "</table>\n",
              "</div>"
            ],
            "text/plain": [
              "   MATRÍCULA                   NOME COMPLETO  ... SALÁRIO LÍQUIDO     REFERÊNCIA\n",
              "0     810029      MAYARA NASCIMENTO TRINDADE  ...         1189.10  Mês 6 de 2019\n",
              "1     810030  JOSE CARLOS FERREIRA DOS SANTO  ...         1721.83  Mês 6 de 2019\n",
              "2     810031            FARLEY MORAIS ARAUJO  ...         5509.09  Mês 6 de 2019\n",
              "3     810032  ALEXANDRE ANTONIO DE O ANDRADE  ...        11030.20  Mês 6 de 2019\n",
              "4     810033         HOSANA DA SILVA DE MELO  ...         5974.94  Mês 6 de 2019\n",
              "5     810034     CARLOS SOARES NOLETO JUNIOR  ...         4883.47  Mês 6 de 2019\n",
              "6     810035   TAIENI VALOIS DA MOTA S COSTA  ...         1505.40  Mês 6 de 2019\n",
              "7     810036    OWEDERSON RICARDO DE O ALVES  ...         3564.10  Mês 6 de 2019\n",
              "8     810038           SEBASTIAO SILVA SOUZA  ...          989.22  Mês 6 de 2019\n",
              "9     810040          ANTONIO DA SILVA SOUSA  ...         2196.49  Mês 6 de 2019\n",
              "\n",
              "[10 rows x 11 columns]"
            ]
          },
          "metadata": {
            "tags": []
          },
          "execution_count": 88
        }
      ]
    },
    {
      "cell_type": "markdown",
      "metadata": {
        "id": "M88QWPix2z1n",
        "colab_type": "text"
      },
      "source": [
        "Calcule o valor médio do salário bruto da UNITINS."
      ]
    },
    {
      "cell_type": "code",
      "metadata": {
        "id": "VSQgYd6z258O",
        "colab_type": "code",
        "outputId": "aa0a33ef-cba4-46dd-8f83-c1b2536906d9",
        "colab": {
          "base_uri": "https://localhost:8080/",
          "height": 34
        }
      },
      "source": [
        "data['SALÁRIO LÍQUIDO'].mean()"
      ],
      "execution_count": 0,
      "outputs": [
        {
          "output_type": "execute_result",
          "data": {
            "text/plain": [
              "3897.320266903915"
            ]
          },
          "metadata": {
            "tags": []
          },
          "execution_count": 89
        }
      ]
    },
    {
      "cell_type": "markdown",
      "metadata": {
        "id": "1VblnaHa26qf",
        "colab_type": "text"
      },
      "source": [
        "Calcule o valor médio do salário bruto do Técnico Administrativo da UNITINS"
      ]
    },
    {
      "cell_type": "code",
      "metadata": {
        "id": "fd-4wUWWXphB",
        "colab_type": "code",
        "outputId": "edf23aa7-aaa6-4868-ceb4-3c7d2e366e69",
        "colab": {
          "base_uri": "https://localhost:8080/",
          "height": 34
        }
      },
      "source": [
        "regex = r'PROF.+'\n",
        "tec = data[data['FUNÇÃO'].str.match(regex) == False]\n",
        "\n",
        "tec['SALÁRIO LÍQUIDO'].mean()"
      ],
      "execution_count": 0,
      "outputs": [
        {
          "output_type": "execute_result",
          "data": {
            "text/plain": [
              "3209.2770809248605"
            ]
          },
          "metadata": {
            "tags": []
          },
          "execution_count": 90
        }
      ]
    },
    {
      "cell_type": "markdown",
      "metadata": {
        "id": "WujQo7HA2_-v",
        "colab_type": "text"
      },
      "source": [
        "Calcule o salário médio do salário bruto do Docente da UNITINS"
      ]
    },
    {
      "cell_type": "code",
      "metadata": {
        "id": "YkECDNjh3D2j",
        "colab_type": "code",
        "outputId": "653522f2-fd0c-4294-8547-b054d97bfa25",
        "colab": {
          "base_uri": "https://localhost:8080/",
          "height": 34
        }
      },
      "source": [
        "prof = data[data['FUNÇÃO'].str.match(regex)]\n",
        "prof['SALÁRIO LÍQUIDO'].mean()\n"
      ],
      "execution_count": 0,
      "outputs": [
        {
          "output_type": "execute_result",
          "data": {
            "text/plain": [
              "4999.463518518523"
            ]
          },
          "metadata": {
            "tags": []
          },
          "execution_count": 91
        }
      ]
    },
    {
      "cell_type": "markdown",
      "metadata": {
        "id": "8f3oZXm13Ee4",
        "colab_type": "text"
      },
      "source": [
        "Calcule a porcentagem de colaboradores da UNITINS com desconto diversos (emprétimos ou plano de saúde"
      ]
    },
    {
      "cell_type": "code",
      "metadata": {
        "id": "NbCDWIrj3XyM",
        "colab_type": "code",
        "colab": {}
      },
      "source": [
        ""
      ],
      "execution_count": 0,
      "outputs": []
    }
  ]
}